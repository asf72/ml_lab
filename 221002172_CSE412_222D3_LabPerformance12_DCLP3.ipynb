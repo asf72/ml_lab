{
  "cells": [
    {
      "cell_type": "markdown",
      "metadata": {
        "id": "view-in-github",
        "colab_type": "text"
      },
      "source": [
        "<a href=\"https://colab.research.google.com/github/asf72/ml_lab/blob/main/221002172_CSE412_222D3_LabPerformance12_DCLP3.ipynb\" target=\"_parent\"><img src=\"https://colab.research.google.com/assets/colab-badge.svg\" alt=\"Open In Colab\"/></a>"
      ]
    },
    {
      "cell_type": "code",
      "execution_count": null,
      "metadata": {
        "id": "J4Xte1nHElNL"
      },
      "outputs": [],
      "source": [
        "import numpy as np\n",
        "import matplotlib.pyplot as plt\n",
        "from sklearn.model_selection import train_test_split\n",
        "from sklearn.metrics import accuracy_score, confusion_matrix, ConfusionMatrixDisplay\n",
        "from sklearn.neural_network import MLPClassifier\n",
        "from sklearn.datasets import make_classification, load_iris\n",
        "from sklearn.preprocessing import StandardScaler"
      ]
    },
    {
      "cell_type": "code",
      "execution_count": null,
      "metadata": {
        "id": "WA4SIQM_GNES"
      },
      "outputs": [],
      "source": [
        "def generate_xor():\n",
        "  x=np.array([[0,0],[0,1],[1,0],[1,1]])\n",
        "  y=np.array([0,1,1,0])\n",
        "  return x,y"
      ]
    },
    {
      "cell_type": "code",
      "execution_count": null,
      "metadata": {
        "id": "y-P_s_jxHLGm"
      },
      "outputs": [],
      "source": [
        "def load_iris_data():\n",
        "  data=load_iris()\n",
        "  x,y=data.data,data.target\n",
        "  return train_test_split(x,y, test_size=0.2,random_state=42)"
      ]
    },
    {
      "cell_type": "code",
      "execution_count": null,
      "metadata": {
        "id": "QzmRXwqTHytf"
      },
      "outputs": [],
      "source": [
        "def run_experiment(x_train,x_test,y_train,y_test, task_name):\n",
        "  activations =['logistic', 'tanh', 'relu']\n",
        "  learning_rate =[0.0001, 0.001, 0.01,0.1]\n",
        "  hidden_neurons =[2,3,5,10]\n",
        "\n",
        "  setup_counter =0\n",
        "  for activation in activations:\n",
        "    for lr in learning_rate:\n",
        "      for h in hidden_neurons:\n",
        "        setup_counter += 1\n",
        "        print(f\"\\n--- Setup {setup_counter}: {task_name} ---\")\n",
        "        print(f\"Activation: {activation}, LR: {lr}, Hidden Neurons: {h}\")\n",
        "\n",
        "        model = MLPClassifier(hidden_layer_sizes=(h,), activation=activation,\n",
        "                              learning_rate_init=lr, max_iter=1000, random_state=42)\n",
        "        model.fit(x_train, y_train)\n",
        "\n",
        "        y_pred_train = model.predict(x_train)\n",
        "        y_pred_test = model.predict(x_test)\n",
        "\n",
        "        acc_train = accuracy_score(y_train, y_pred_train)\n",
        "        acc_test = accuracy_score(y_test, y_pred_test)\n",
        "        cm = confusion_matrix(y_test, y_pred_test)\n",
        "\n",
        "        print(f\"Train Accuracy: {acc_train:.4f}\")\n",
        "        print(f\"Test Accuracy: {acc_test:.4f}\")\n",
        "        print(\"Confusion Matrix:\")\n",
        "        print(cm)\n",
        "        if (activation == 'relu' and lr == 0.01 and h == 5) or \\\n",
        "           (activation == 'tanh' and lr == 0.001 and h == 10):\n",
        "            plt.figure()\n",
        "            plt.plot(model.loss_curve_)\n",
        "            plt.title(f'Loss Curve - {task_name}\\nActivation={activation}, LR={lr}, Hidden={h}')\n",
        "            plt.xlabel('Iterations')\n",
        "            plt.ylabel('Loss')\n",
        "            plt.grid(True)\n",
        "            plt.show()"
      ]
    },
    {
      "cell_type": "code",
      "execution_count": null,
      "metadata": {
        "colab": {
          "base_uri": "https://localhost:8080/",
          "height": 1000
        },
        "id": "R38rE2AOKsIP",
        "outputId": "87eabe86-4871-4657-b58a-f1d07557e9dd"
      },
      "outputs": [
        {
          "name": "stdout",
          "output_type": "stream",
          "text": [
            "### XOR Dataset Experiments ###\n",
            "\n",
            "--- Setup 1: XOR ---\n",
            "Activation: logistic, LR: 0.0001, Hidden Neurons: 2\n",
            "Train Accuracy: 0.5000\n",
            "Test Accuracy: 0.5000\n",
            "Confusion Matrix:\n",
            "[[0 1]\n",
            " [0 1]]\n",
            "\n",
            "--- Setup 2: XOR ---\n",
            "Activation: logistic, LR: 0.0001, Hidden Neurons: 3\n",
            "Train Accuracy: 0.5000\n",
            "Test Accuracy: 0.5000\n",
            "Confusion Matrix:\n",
            "[[0 1]\n",
            " [0 1]]\n",
            "\n",
            "--- Setup 3: XOR ---\n",
            "Activation: logistic, LR: 0.0001, Hidden Neurons: 5\n",
            "Train Accuracy: 0.5000\n",
            "Test Accuracy: 0.5000\n",
            "Confusion Matrix:\n",
            "[[1 0]\n",
            " [1 0]]\n",
            "\n",
            "--- Setup 4: XOR ---\n",
            "Activation: logistic, LR: 0.0001, Hidden Neurons: 10\n",
            "Train Accuracy: 0.5000\n",
            "Test Accuracy: 0.5000\n",
            "Confusion Matrix:\n",
            "[[1 0]\n",
            " [1 0]]\n",
            "\n",
            "--- Setup 5: XOR ---\n",
            "Activation: logistic, LR: 0.001, Hidden Neurons: 2\n"
          ]
        },
        {
          "name": "stderr",
          "output_type": "stream",
          "text": [
            "/usr/local/lib/python3.11/dist-packages/sklearn/neural_network/_multilayer_perceptron.py:691: ConvergenceWarning: Stochastic Optimizer: Maximum iterations (1000) reached and the optimization hasn't converged yet.\n",
            "  warnings.warn(\n"
          ]
        },
        {
          "name": "stdout",
          "output_type": "stream",
          "text": [
            "Train Accuracy: 1.0000\n",
            "Test Accuracy: 0.0000\n",
            "Confusion Matrix:\n",
            "[[0 1]\n",
            " [1 0]]\n",
            "\n",
            "--- Setup 6: XOR ---\n",
            "Activation: logistic, LR: 0.001, Hidden Neurons: 3\n"
          ]
        },
        {
          "name": "stderr",
          "output_type": "stream",
          "text": [
            "/usr/local/lib/python3.11/dist-packages/sklearn/neural_network/_multilayer_perceptron.py:691: ConvergenceWarning: Stochastic Optimizer: Maximum iterations (1000) reached and the optimization hasn't converged yet.\n",
            "  warnings.warn(\n"
          ]
        },
        {
          "name": "stdout",
          "output_type": "stream",
          "text": [
            "Train Accuracy: 1.0000\n",
            "Test Accuracy: 0.0000\n",
            "Confusion Matrix:\n",
            "[[0 1]\n",
            " [1 0]]\n",
            "\n",
            "--- Setup 7: XOR ---\n",
            "Activation: logistic, LR: 0.001, Hidden Neurons: 5\n"
          ]
        },
        {
          "name": "stderr",
          "output_type": "stream",
          "text": [
            "/usr/local/lib/python3.11/dist-packages/sklearn/neural_network/_multilayer_perceptron.py:691: ConvergenceWarning: Stochastic Optimizer: Maximum iterations (1000) reached and the optimization hasn't converged yet.\n",
            "  warnings.warn(\n"
          ]
        },
        {
          "name": "stdout",
          "output_type": "stream",
          "text": [
            "Train Accuracy: 1.0000\n",
            "Test Accuracy: 0.0000\n",
            "Confusion Matrix:\n",
            "[[0 1]\n",
            " [1 0]]\n",
            "\n",
            "--- Setup 8: XOR ---\n",
            "Activation: logistic, LR: 0.001, Hidden Neurons: 10\n"
          ]
        },
        {
          "name": "stderr",
          "output_type": "stream",
          "text": [
            "/usr/local/lib/python3.11/dist-packages/sklearn/neural_network/_multilayer_perceptron.py:691: ConvergenceWarning: Stochastic Optimizer: Maximum iterations (1000) reached and the optimization hasn't converged yet.\n",
            "  warnings.warn(\n"
          ]
        },
        {
          "name": "stdout",
          "output_type": "stream",
          "text": [
            "Train Accuracy: 1.0000\n",
            "Test Accuracy: 0.0000\n",
            "Confusion Matrix:\n",
            "[[0 1]\n",
            " [1 0]]\n",
            "\n",
            "--- Setup 9: XOR ---\n",
            "Activation: logistic, LR: 0.01, Hidden Neurons: 2\n",
            "Train Accuracy: 1.0000\n",
            "Test Accuracy: 0.0000\n",
            "Confusion Matrix:\n",
            "[[0 1]\n",
            " [1 0]]\n",
            "\n",
            "--- Setup 10: XOR ---\n",
            "Activation: logistic, LR: 0.01, Hidden Neurons: 3\n",
            "Train Accuracy: 1.0000\n",
            "Test Accuracy: 0.0000\n",
            "Confusion Matrix:\n",
            "[[0 1]\n",
            " [1 0]]\n",
            "\n",
            "--- Setup 11: XOR ---\n",
            "Activation: logistic, LR: 0.01, Hidden Neurons: 5\n",
            "Train Accuracy: 1.0000\n",
            "Test Accuracy: 0.0000\n",
            "Confusion Matrix:\n",
            "[[0 1]\n",
            " [1 0]]\n",
            "\n",
            "--- Setup 12: XOR ---\n",
            "Activation: logistic, LR: 0.01, Hidden Neurons: 10\n",
            "Train Accuracy: 1.0000\n",
            "Test Accuracy: 0.0000\n",
            "Confusion Matrix:\n",
            "[[0 1]\n",
            " [1 0]]\n",
            "\n",
            "--- Setup 13: XOR ---\n",
            "Activation: logistic, LR: 0.1, Hidden Neurons: 2\n",
            "Train Accuracy: 1.0000\n",
            "Test Accuracy: 0.0000\n",
            "Confusion Matrix:\n",
            "[[0 1]\n",
            " [1 0]]\n",
            "\n",
            "--- Setup 14: XOR ---\n",
            "Activation: logistic, LR: 0.1, Hidden Neurons: 3\n",
            "Train Accuracy: 1.0000\n",
            "Test Accuracy: 0.0000\n",
            "Confusion Matrix:\n",
            "[[0 1]\n",
            " [1 0]]\n",
            "\n",
            "--- Setup 15: XOR ---\n",
            "Activation: logistic, LR: 0.1, Hidden Neurons: 5\n",
            "Train Accuracy: 1.0000\n",
            "Test Accuracy: 0.0000\n",
            "Confusion Matrix:\n",
            "[[0 1]\n",
            " [1 0]]\n",
            "\n",
            "--- Setup 16: XOR ---\n",
            "Activation: logistic, LR: 0.1, Hidden Neurons: 10\n",
            "Train Accuracy: 1.0000\n",
            "Test Accuracy: 0.0000\n",
            "Confusion Matrix:\n",
            "[[0 1]\n",
            " [1 0]]\n",
            "\n",
            "--- Setup 17: XOR ---\n",
            "Activation: tanh, LR: 0.0001, Hidden Neurons: 2\n",
            "Train Accuracy: 0.5000\n",
            "Test Accuracy: 0.5000\n",
            "Confusion Matrix:\n",
            "[[0 1]\n",
            " [0 1]]\n",
            "\n",
            "--- Setup 18: XOR ---\n",
            "Activation: tanh, LR: 0.0001, Hidden Neurons: 3\n",
            "Train Accuracy: 0.5000\n",
            "Test Accuracy: 0.5000\n",
            "Confusion Matrix:\n",
            "[[1 0]\n",
            " [1 0]]\n",
            "\n",
            "--- Setup 19: XOR ---\n",
            "Activation: tanh, LR: 0.0001, Hidden Neurons: 5\n",
            "Train Accuracy: 0.5000\n",
            "Test Accuracy: 0.5000\n",
            "Confusion Matrix:\n",
            "[[0 1]\n",
            " [0 1]]\n",
            "\n",
            "--- Setup 20: XOR ---\n",
            "Activation: tanh, LR: 0.0001, Hidden Neurons: 10\n"
          ]
        },
        {
          "name": "stderr",
          "output_type": "stream",
          "text": [
            "/usr/local/lib/python3.11/dist-packages/sklearn/neural_network/_multilayer_perceptron.py:691: ConvergenceWarning: Stochastic Optimizer: Maximum iterations (1000) reached and the optimization hasn't converged yet.\n",
            "  warnings.warn(\n"
          ]
        },
        {
          "name": "stdout",
          "output_type": "stream",
          "text": [
            "Train Accuracy: 0.0000\n",
            "Test Accuracy: 0.5000\n",
            "Confusion Matrix:\n",
            "[[1 0]\n",
            " [1 0]]\n",
            "\n",
            "--- Setup 21: XOR ---\n",
            "Activation: tanh, LR: 0.001, Hidden Neurons: 2\n"
          ]
        },
        {
          "name": "stderr",
          "output_type": "stream",
          "text": [
            "/usr/local/lib/python3.11/dist-packages/sklearn/neural_network/_multilayer_perceptron.py:691: ConvergenceWarning: Stochastic Optimizer: Maximum iterations (1000) reached and the optimization hasn't converged yet.\n",
            "  warnings.warn(\n"
          ]
        },
        {
          "name": "stdout",
          "output_type": "stream",
          "text": [
            "Train Accuracy: 1.0000\n",
            "Test Accuracy: 0.0000\n",
            "Confusion Matrix:\n",
            "[[0 1]\n",
            " [1 0]]\n",
            "\n",
            "--- Setup 22: XOR ---\n",
            "Activation: tanh, LR: 0.001, Hidden Neurons: 3\n"
          ]
        },
        {
          "name": "stderr",
          "output_type": "stream",
          "text": [
            "/usr/local/lib/python3.11/dist-packages/sklearn/neural_network/_multilayer_perceptron.py:691: ConvergenceWarning: Stochastic Optimizer: Maximum iterations (1000) reached and the optimization hasn't converged yet.\n",
            "  warnings.warn(\n"
          ]
        },
        {
          "name": "stdout",
          "output_type": "stream",
          "text": [
            "Train Accuracy: 1.0000\n",
            "Test Accuracy: 0.0000\n",
            "Confusion Matrix:\n",
            "[[0 1]\n",
            " [1 0]]\n",
            "\n",
            "--- Setup 23: XOR ---\n",
            "Activation: tanh, LR: 0.001, Hidden Neurons: 5\n"
          ]
        },
        {
          "name": "stderr",
          "output_type": "stream",
          "text": [
            "/usr/local/lib/python3.11/dist-packages/sklearn/neural_network/_multilayer_perceptron.py:691: ConvergenceWarning: Stochastic Optimizer: Maximum iterations (1000) reached and the optimization hasn't converged yet.\n",
            "  warnings.warn(\n"
          ]
        },
        {
          "name": "stdout",
          "output_type": "stream",
          "text": [
            "Train Accuracy: 1.0000\n",
            "Test Accuracy: 0.0000\n",
            "Confusion Matrix:\n",
            "[[0 1]\n",
            " [1 0]]\n",
            "\n",
            "--- Setup 24: XOR ---\n",
            "Activation: tanh, LR: 0.001, Hidden Neurons: 10\n",
            "Train Accuracy: 1.0000\n",
            "Test Accuracy: 0.0000\n",
            "Confusion Matrix:\n",
            "[[0 1]\n",
            " [1 0]]\n"
          ]
        },
        {
          "name": "stderr",
          "output_type": "stream",
          "text": [
            "/usr/local/lib/python3.11/dist-packages/sklearn/neural_network/_multilayer_perceptron.py:691: ConvergenceWarning: Stochastic Optimizer: Maximum iterations (1000) reached and the optimization hasn't converged yet.\n",
            "  warnings.warn(\n"
          ]
        },
        {
          "data": {
            "image/png": "[encoded data removed]",
            "text/plain": [
              "<Figure size 640x480 with 1 Axes>"
            ]
          },
          "metadata": {},
          "output_type": "display_data"
        },
        {
          "name": "stdout",
          "output_type": "stream",
          "text": [
            "\n",
            "--- Setup 25: XOR ---\n",
            "Activation: tanh, LR: 0.01, Hidden Neurons: 2\n",
            "Train Accuracy: 1.0000\n",
            "Test Accuracy: 0.0000\n",
            "Confusion Matrix:\n",
            "[[0 1]\n",
            " [1 0]]\n",
            "\n",
            "--- Setup 26: XOR ---\n",
            "Activation: tanh, LR: 0.01, Hidden Neurons: 3\n",
            "Train Accuracy: 1.0000\n",
            "Test Accuracy: 0.0000\n",
            "Confusion Matrix:\n",
            "[[0 1]\n",
            " [1 0]]\n",
            "\n",
            "--- Setup 27: XOR ---\n",
            "Activation: tanh, LR: 0.01, Hidden Neurons: 5\n",
            "Train Accuracy: 1.0000\n",
            "Test Accuracy: 0.0000\n",
            "Confusion Matrix:\n",
            "[[0 1]\n",
            " [1 0]]\n",
            "\n",
            "--- Setup 28: XOR ---\n",
            "Activation: tanh, LR: 0.01, Hidden Neurons: 10\n",
            "Train Accuracy: 1.0000\n",
            "Test Accuracy: 0.0000\n",
            "Confusion Matrix:\n",
            "[[0 1]\n",
            " [1 0]]\n",
            "\n",
            "--- Setup 29: XOR ---\n",
            "Activation: tanh, LR: 0.1, Hidden Neurons: 2\n",
            "Train Accuracy: 1.0000\n",
            "Test Accuracy: 0.0000\n",
            "Confusion Matrix:\n",
            "[[0 1]\n",
            " [1 0]]\n",
            "\n",
            "--- Setup 30: XOR ---\n",
            "Activation: tanh, LR: 0.1, Hidden Neurons: 3\n",
            "Train Accuracy: 1.0000\n",
            "Test Accuracy: 0.0000\n",
            "Confusion Matrix:\n",
            "[[0 1]\n",
            " [1 0]]\n",
            "\n",
            "--- Setup 31: XOR ---\n",
            "Activation: tanh, LR: 0.1, Hidden Neurons: 5\n",
            "Train Accuracy: 1.0000\n",
            "Test Accuracy: 0.0000\n",
            "Confusion Matrix:\n",
            "[[0 1]\n",
            " [1 0]]\n",
            "\n",
            "--- Setup 32: XOR ---\n",
            "Activation: tanh, LR: 0.1, Hidden Neurons: 10\n",
            "Train Accuracy: 1.0000\n",
            "Test Accuracy: 0.0000\n",
            "Confusion Matrix:\n",
            "[[0 1]\n",
            " [1 0]]\n",
            "\n",
            "--- Setup 33: XOR ---\n",
            "Activation: relu, LR: 0.0001, Hidden Neurons: 2\n",
            "Train Accuracy: 0.5000\n",
            "Test Accuracy: 0.5000\n",
            "Confusion Matrix:\n",
            "[[0 1]\n",
            " [0 1]]\n",
            "\n",
            "--- Setup 34: XOR ---\n",
            "Activation: relu, LR: 0.0001, Hidden Neurons: 3\n",
            "Train Accuracy: 0.0000\n",
            "Test Accuracy: 1.0000\n",
            "Confusion Matrix:\n",
            "[[1 0]\n",
            " [0 1]]\n",
            "\n",
            "--- Setup 35: XOR ---\n",
            "Activation: relu, LR: 0.0001, Hidden Neurons: 5\n",
            "Train Accuracy: 0.5000\n",
            "Test Accuracy: 1.0000\n",
            "Confusion Matrix:\n",
            "[[1 0]\n",
            " [0 1]]\n",
            "\n",
            "--- Setup 36: XOR ---\n",
            "Activation: relu, LR: 0.0001, Hidden Neurons: 10\n",
            "Train Accuracy: 0.5000\n",
            "Test Accuracy: 0.5000\n",
            "Confusion Matrix:\n",
            "[[1 0]\n",
            " [1 0]]\n",
            "\n",
            "--- Setup 37: XOR ---\n",
            "Activation: relu, LR: 0.001, Hidden Neurons: 2\n"
          ]
        },
        {
          "name": "stderr",
          "output_type": "stream",
          "text": [
            "/usr/local/lib/python3.11/dist-packages/sklearn/neural_network/_multilayer_perceptron.py:691: ConvergenceWarning: Stochastic Optimizer: Maximum iterations (1000) reached and the optimization hasn't converged yet.\n",
            "  warnings.warn(\n"
          ]
        },
        {
          "name": "stdout",
          "output_type": "stream",
          "text": [
            "Train Accuracy: 1.0000\n",
            "Test Accuracy: 0.0000\n",
            "Confusion Matrix:\n",
            "[[0 1]\n",
            " [1 0]]\n",
            "\n",
            "--- Setup 38: XOR ---\n",
            "Activation: relu, LR: 0.001, Hidden Neurons: 3\n"
          ]
        },
        {
          "name": "stderr",
          "output_type": "stream",
          "text": [
            "/usr/local/lib/python3.11/dist-packages/sklearn/neural_network/_multilayer_perceptron.py:691: ConvergenceWarning: Stochastic Optimizer: Maximum iterations (1000) reached and the optimization hasn't converged yet.\n",
            "  warnings.warn(\n"
          ]
        },
        {
          "name": "stdout",
          "output_type": "stream",
          "text": [
            "Train Accuracy: 1.0000\n",
            "Test Accuracy: 0.0000\n",
            "Confusion Matrix:\n",
            "[[0 1]\n",
            " [1 0]]\n",
            "\n",
            "--- Setup 39: XOR ---\n",
            "Activation: relu, LR: 0.001, Hidden Neurons: 5\n"
          ]
        },
        {
          "name": "stderr",
          "output_type": "stream",
          "text": [
            "/usr/local/lib/python3.11/dist-packages/sklearn/neural_network/_multilayer_perceptron.py:691: ConvergenceWarning: Stochastic Optimizer: Maximum iterations (1000) reached and the optimization hasn't converged yet.\n",
            "  warnings.warn(\n"
          ]
        },
        {
          "name": "stdout",
          "output_type": "stream",
          "text": [
            "Train Accuracy: 1.0000\n",
            "Test Accuracy: 0.0000\n",
            "Confusion Matrix:\n",
            "[[0 1]\n",
            " [1 0]]\n",
            "\n",
            "--- Setup 40: XOR ---\n",
            "Activation: relu, LR: 0.001, Hidden Neurons: 10\n"
          ]
        },
        {
          "name": "stderr",
          "output_type": "stream",
          "text": [
            "/usr/local/lib/python3.11/dist-packages/sklearn/neural_network/_multilayer_perceptron.py:691: ConvergenceWarning: Stochastic Optimizer: Maximum iterations (1000) reached and the optimization hasn't converged yet.\n",
            "  warnings.warn(\n"
          ]
        },
        {
          "name": "stdout",
          "output_type": "stream",
          "text": [
            "Train Accuracy: 1.0000\n",
            "Test Accuracy: 0.0000\n",
            "Confusion Matrix:\n",
            "[[0 1]\n",
            " [1 0]]\n",
            "\n",
            "--- Setup 41: XOR ---\n",
            "Activation: relu, LR: 0.01, Hidden Neurons: 2\n",
            "Train Accuracy: 1.0000\n",
            "Test Accuracy: 0.0000\n",
            "Confusion Matrix:\n",
            "[[0 1]\n",
            " [1 0]]\n",
            "\n",
            "--- Setup 42: XOR ---\n",
            "Activation: relu, LR: 0.01, Hidden Neurons: 3\n",
            "Train Accuracy: 1.0000\n",
            "Test Accuracy: 0.0000\n",
            "Confusion Matrix:\n",
            "[[0 1]\n",
            " [1 0]]\n",
            "\n",
            "--- Setup 43: XOR ---\n",
            "Activation: relu, LR: 0.01, Hidden Neurons: 5\n",
            "Train Accuracy: 1.0000\n",
            "Test Accuracy: 0.0000\n",
            "Confusion Matrix:\n",
            "[[0 1]\n",
            " [1 0]]\n"
          ]
        },
        {
          "data": {
            "image/png": "[encoded data removed]",
            "text/plain": [
              "<Figure size 640x480 with 1 Axes>"
            ]
          },
          "metadata": {},
          "output_type": "display_data"
        },
        {
          "name": "stdout",
          "output_type": "stream",
          "text": [
            "\n",
            "--- Setup 44: XOR ---\n",
            "Activation: relu, LR: 0.01, Hidden Neurons: 10\n",
            "Train Accuracy: 1.0000\n",
            "Test Accuracy: 0.0000\n",
            "Confusion Matrix:\n",
            "[[0 1]\n",
            " [1 0]]\n",
            "\n",
            "--- Setup 45: XOR ---\n",
            "Activation: relu, LR: 0.1, Hidden Neurons: 2\n",
            "Train Accuracy: 1.0000\n",
            "Test Accuracy: 0.0000\n",
            "Confusion Matrix:\n",
            "[[0 1]\n",
            " [1 0]]\n",
            "\n",
            "--- Setup 46: XOR ---\n",
            "Activation: relu, LR: 0.1, Hidden Neurons: 3\n",
            "Train Accuracy: 1.0000\n",
            "Test Accuracy: 0.0000\n",
            "Confusion Matrix:\n",
            "[[0 1]\n",
            " [1 0]]\n",
            "\n",
            "--- Setup 47: XOR ---\n",
            "Activation: relu, LR: 0.1, Hidden Neurons: 5\n",
            "Train Accuracy: 1.0000\n",
            "Test Accuracy: 0.0000\n",
            "Confusion Matrix:\n",
            "[[0 1]\n",
            " [1 0]]\n",
            "\n",
            "--- Setup 48: XOR ---\n",
            "Activation: relu, LR: 0.1, Hidden Neurons: 10\n",
            "Train Accuracy: 1.0000\n",
            "Test Accuracy: 0.0000\n",
            "Confusion Matrix:\n",
            "[[0 1]\n",
            " [1 0]]\n"
          ]
        }
      ],
      "source": [
        "print(\"### XOR Dataset Experiments ###\")\n",
        "X_xor, y_xor = generate_xor()\n",
        "X_train_xor, X_test_xor, y_train_xor, y_test_xor = train_test_split(X_xor, y_xor, test_size=0.5, random_state=42)\n",
        "run_experiment(X_train_xor, X_test_xor, y_train_xor, y_test_xor, task_name=\"XOR\")"
      ]
    },
    {
      "cell_type": "code",
      "execution_count": null,
      "metadata": {
        "colab": {
          "background_save": true
        },
        "id": "31fUOTsgK6Zu",
        "outputId": "2d7a35e4-da53-48b4-c0a5-17d28c6a8d86"
      },
      "outputs": [
        {
          "name": "stdout",
          "output_type": "stream",
          "text": [
            "\n",
            "### Iris Dataset Experiments ###\n",
            "\n",
            "--- Setup 1: Iris ---\n",
            "Activation: logistic, LR: 0.0001, Hidden Neurons: 2\n",
            "Train Accuracy: 0.3417\n",
            "Test Accuracy: 0.3000\n",
            "Confusion Matrix:\n",
            "[[ 0 10  0]\n",
            " [ 0  9  0]\n",
            " [ 0 11  0]]\n",
            "\n",
            "--- Setup 2: Iris ---\n",
            "Activation: logistic, LR: 0.0001, Hidden Neurons: 3\n",
            "Train Accuracy: 0.3417\n",
            "Test Accuracy: 0.3000\n",
            "Confusion Matrix:\n",
            "[[ 0 10  0]\n",
            " [ 0  9  0]\n",
            " [ 0 11  0]]\n",
            "\n",
            "--- Setup 3: Iris ---\n",
            "Activation: logistic, LR: 0.0001, Hidden Neurons: 5\n"
          ]
        },
        {
          "name": "stderr",
          "output_type": "stream",
          "text": [
            "/usr/local/lib/python3.11/dist-packages/sklearn/neural_network/_multilayer_perceptron.py:691: ConvergenceWarning: Stochastic Optimizer: Maximum iterations (1000) reached and the optimization hasn't converged yet.\n",
            "  warnings.warn(\n"
          ]
        },
        {
          "name": "stdout",
          "output_type": "stream",
          "text": [
            "Train Accuracy: 0.7417\n",
            "Test Accuracy: 0.7667\n",
            "Confusion Matrix:\n",
            "[[10  0  0]\n",
            " [ 2  2  5]\n",
            " [ 0  0 11]]\n",
            "\n",
            "--- Setup 4: Iris ---\n",
            "Activation: logistic, LR: 0.0001, Hidden Neurons: 10\n"
          ]
        },
        {
          "name": "stderr",
          "output_type": "stream",
          "text": [
            "/usr/local/lib/python3.11/dist-packages/sklearn/neural_network/_multilayer_perceptron.py:691: ConvergenceWarning: Stochastic Optimizer: Maximum iterations (1000) reached and the optimization hasn't converged yet.\n",
            "  warnings.warn(\n"
          ]
        },
        {
          "name": "stdout",
          "output_type": "stream",
          "text": [
            "Train Accuracy: 0.8083\n",
            "Test Accuracy: 0.9333\n",
            "Confusion Matrix:\n",
            "[[10  0  0]\n",
            " [ 0  7  2]\n",
            " [ 0  0 11]]\n",
            "\n",
            "--- Setup 5: Iris ---\n",
            "Activation: logistic, LR: 0.001, Hidden Neurons: 2\n"
          ]
        },
        {
          "name": "stderr",
          "output_type": "stream",
          "text": [
            "/usr/local/lib/python3.11/dist-packages/sklearn/neural_network/_multilayer_perceptron.py:691: ConvergenceWarning: Stochastic Optimizer: Maximum iterations (1000) reached and the optimization hasn't converged yet.\n",
            "  warnings.warn(\n"
          ]
        },
        {
          "name": "stdout",
          "output_type": "stream",
          "text": [
            "Train Accuracy: 0.9167\n",
            "Test Accuracy: 0.9333\n",
            "Confusion Matrix:\n",
            "[[10  0  0]\n",
            " [ 0  7  2]\n",
            " [ 0  0 11]]\n",
            "\n",
            "--- Setup 6: Iris ---\n",
            "Activation: logistic, LR: 0.001, Hidden Neurons: 3\n"
          ]
        },
        {
          "name": "stderr",
          "output_type": "stream",
          "text": [
            "/usr/local/lib/python3.11/dist-packages/sklearn/neural_network/_multilayer_perceptron.py:691: ConvergenceWarning: Stochastic Optimizer: Maximum iterations (1000) reached and the optimization hasn't converged yet.\n",
            "  warnings.warn(\n"
          ]
        },
        {
          "name": "stdout",
          "output_type": "stream",
          "text": [
            "Train Accuracy: 0.8667\n",
            "Test Accuracy: 0.9000\n",
            "Confusion Matrix:\n",
            "[[10  0  0]\n",
            " [ 0  7  2]\n",
            " [ 0  1 10]]\n",
            "\n",
            "--- Setup 7: Iris ---\n",
            "Activation: logistic, LR: 0.001, Hidden Neurons: 5\n"
          ]
        },
        {
          "name": "stderr",
          "output_type": "stream",
          "text": [
            "/usr/local/lib/python3.11/dist-packages/sklearn/neural_network/_multilayer_perceptron.py:691: ConvergenceWarning: Stochastic Optimizer: Maximum iterations (1000) reached and the optimization hasn't converged yet.\n",
            "  warnings.warn(\n"
          ]
        },
        {
          "name": "stdout",
          "output_type": "stream",
          "text": [
            "Train Accuracy: 0.9333\n",
            "Test Accuracy: 0.9333\n",
            "Confusion Matrix:\n",
            "[[10  0  0]\n",
            " [ 0  7  2]\n",
            " [ 0  0 11]]\n",
            "\n",
            "--- Setup 8: Iris ---\n",
            "Activation: logistic, LR: 0.001, Hidden Neurons: 10\n"
          ]
        },
        {
          "name": "stderr",
          "output_type": "stream",
          "text": [
            "/usr/local/lib/python3.11/dist-packages/sklearn/neural_network/_multilayer_perceptron.py:691: ConvergenceWarning: Stochastic Optimizer: Maximum iterations (1000) reached and the optimization hasn't converged yet.\n",
            "  warnings.warn(\n"
          ]
        },
        {
          "name": "stdout",
          "output_type": "stream",
          "text": [
            "Train Accuracy: 0.9583\n",
            "Test Accuracy: 1.0000\n",
            "Confusion Matrix:\n",
            "[[10  0  0]\n",
            " [ 0  9  0]\n",
            " [ 0  0 11]]\n",
            "\n",
            "--- Setup 9: Iris ---\n",
            "Activation: logistic, LR: 0.01, Hidden Neurons: 2\n",
            "Train Accuracy: 0.9833\n",
            "Test Accuracy: 1.0000\n",
            "Confusion Matrix:\n",
            "[[10  0  0]\n",
            " [ 0  9  0]\n",
            " [ 0  0 11]]\n",
            "\n",
            "--- Setup 10: Iris ---\n",
            "Activation: logistic, LR: 0.01, Hidden Neurons: 3\n",
            "Train Accuracy: 0.9833\n",
            "Test Accuracy: 1.0000\n",
            "Confusion Matrix:\n",
            "[[10  0  0]\n",
            " [ 0  9  0]\n",
            " [ 0  0 11]]\n",
            "\n",
            "--- Setup 11: Iris ---\n",
            "Activation: logistic, LR: 0.01, Hidden Neurons: 5\n",
            "Train Accuracy: 0.9833\n",
            "Test Accuracy: 1.0000\n",
            "Confusion Matrix:\n",
            "[[10  0  0]\n",
            " [ 0  9  0]\n",
            " [ 0  0 11]]\n",
            "\n",
            "--- Setup 12: Iris ---\n",
            "Activation: logistic, LR: 0.01, Hidden Neurons: 10\n",
            "Train Accuracy: 0.9833\n",
            "Test Accuracy: 1.0000\n",
            "Confusion Matrix:\n",
            "[[10  0  0]\n",
            " [ 0  9  0]\n",
            " [ 0  0 11]]\n",
            "\n",
            "--- Setup 13: Iris ---\n",
            "Activation: logistic, LR: 0.1, Hidden Neurons: 2\n",
            "Train Accuracy: 0.9833\n",
            "Test Accuracy: 1.0000\n",
            "Confusion Matrix:\n",
            "[[10  0  0]\n",
            " [ 0  9  0]\n",
            " [ 0  0 11]]\n",
            "\n",
            "--- Setup 14: Iris ---\n",
            "Activation: logistic, LR: 0.1, Hidden Neurons: 3\n",
            "Train Accuracy: 0.9833\n",
            "Test Accuracy: 1.0000\n",
            "Confusion Matrix:\n",
            "[[10  0  0]\n",
            " [ 0  9  0]\n",
            " [ 0  0 11]]\n",
            "\n",
            "--- Setup 15: Iris ---\n",
            "Activation: logistic, LR: 0.1, Hidden Neurons: 5\n",
            "Train Accuracy: 0.9833\n",
            "Test Accuracy: 1.0000\n",
            "Confusion Matrix:\n",
            "[[10  0  0]\n",
            " [ 0  9  0]\n",
            " [ 0  0 11]]\n",
            "\n",
            "--- Setup 16: Iris ---\n",
            "Activation: logistic, LR: 0.1, Hidden Neurons: 10\n",
            "Train Accuracy: 0.9833\n",
            "Test Accuracy: 1.0000\n",
            "Confusion Matrix:\n",
            "[[10  0  0]\n",
            " [ 0  9  0]\n",
            " [ 0  0 11]]\n",
            "\n",
            "--- Setup 17: Iris ---\n",
            "Activation: tanh, LR: 0.0001, Hidden Neurons: 2\n"
          ]
        },
        {
          "name": "stderr",
          "output_type": "stream",
          "text": [
            "/usr/local/lib/python3.11/dist-packages/sklearn/neural_network/_multilayer_perceptron.py:691: ConvergenceWarning: Stochastic Optimizer: Maximum iterations (1000) reached and the optimization hasn't converged yet.\n",
            "  warnings.warn(\n"
          ]
        },
        {
          "name": "stdout",
          "output_type": "stream",
          "text": [
            "Train Accuracy: 0.0667\n",
            "Test Accuracy: 0.0667\n",
            "Confusion Matrix:\n",
            "[[ 0 10  0]\n",
            " [ 6  2  1]\n",
            " [11  0  0]]\n",
            "\n",
            "--- Setup 18: Iris ---\n",
            "Activation: tanh, LR: 0.0001, Hidden Neurons: 3\n"
          ]
        },
        {
          "name": "stderr",
          "output_type": "stream",
          "text": [
            "/usr/local/lib/python3.11/dist-packages/sklearn/neural_network/_multilayer_perceptron.py:691: ConvergenceWarning: Stochastic Optimizer: Maximum iterations (1000) reached and the optimization hasn't converged yet.\n",
            "  warnings.warn(\n"
          ]
        },
        {
          "name": "stdout",
          "output_type": "stream",
          "text": [
            "Train Accuracy: 0.3417\n",
            "Test Accuracy: 0.3000\n",
            "Confusion Matrix:\n",
            "[[ 0 10  0]\n",
            " [ 0  9  0]\n",
            " [ 0 11  0]]\n",
            "\n",
            "--- Setup 19: Iris ---\n",
            "Activation: tanh, LR: 0.0001, Hidden Neurons: 5\n"
          ]
        },
        {
          "name": "stderr",
          "output_type": "stream",
          "text": [
            "/usr/local/lib/python3.11/dist-packages/sklearn/neural_network/_multilayer_perceptron.py:691: ConvergenceWarning: Stochastic Optimizer: Maximum iterations (1000) reached and the optimization hasn't converged yet.\n",
            "  warnings.warn(\n"
          ]
        },
        {
          "name": "stdout",
          "output_type": "stream",
          "text": [
            "Train Accuracy: 0.4583\n",
            "Test Accuracy: 0.5333\n",
            "Confusion Matrix:\n",
            "[[ 0 10  0]\n",
            " [ 2  5  2]\n",
            " [ 0  0 11]]\n",
            "\n",
            "--- Setup 20: Iris ---\n",
            "Activation: tanh, LR: 0.0001, Hidden Neurons: 10\n"
          ]
        },
        {
          "name": "stderr",
          "output_type": "stream",
          "text": [
            "/usr/local/lib/python3.11/dist-packages/sklearn/neural_network/_multilayer_perceptron.py:691: ConvergenceWarning: Stochastic Optimizer: Maximum iterations (1000) reached and the optimization hasn't converged yet.\n",
            "  warnings.warn(\n"
          ]
        },
        {
          "name": "stdout",
          "output_type": "stream",
          "text": [
            "Train Accuracy: 0.6083\n",
            "Test Accuracy: 0.6667\n",
            "Confusion Matrix:\n",
            "[[ 5  5  0]\n",
            " [ 1  5  3]\n",
            " [ 1  0 10]]\n",
            "\n",
            "--- Setup 21: Iris ---\n",
            "Activation: tanh, LR: 0.001, Hidden Neurons: 2\n"
          ]
        },
        {
          "name": "stderr",
          "output_type": "stream",
          "text": [
            "/usr/local/lib/python3.11/dist-packages/sklearn/neural_network/_multilayer_perceptron.py:691: ConvergenceWarning: Stochastic Optimizer: Maximum iterations (1000) reached and the optimization hasn't converged yet.\n",
            "  warnings.warn(\n"
          ]
        },
        {
          "name": "stdout",
          "output_type": "stream",
          "text": [
            "Train Accuracy: 0.5917\n",
            "Test Accuracy: 0.6000\n",
            "Confusion Matrix:\n",
            "[[10  0  0]\n",
            " [ 0  8  1]\n",
            " [ 0 11  0]]\n",
            "\n",
            "--- Setup 22: Iris ---\n",
            "Activation: tanh, LR: 0.001, Hidden Neurons: 3\n"
          ]
        },
        {
          "name": "stderr",
          "output_type": "stream",
          "text": [
            "/usr/local/lib/python3.11/dist-packages/sklearn/neural_network/_multilayer_perceptron.py:691: ConvergenceWarning: Stochastic Optimizer: Maximum iterations (1000) reached and the optimization hasn't converged yet.\n",
            "  warnings.warn(\n"
          ]
        },
        {
          "name": "stdout",
          "output_type": "stream",
          "text": [
            "Train Accuracy: 0.8833\n",
            "Test Accuracy: 0.9667\n",
            "Confusion Matrix:\n",
            "[[10  0  0]\n",
            " [ 0  8  1]\n",
            " [ 0  0 11]]\n",
            "\n",
            "--- Setup 23: Iris ---\n",
            "Activation: tanh, LR: 0.001, Hidden Neurons: 5\n"
          ]
        },
        {
          "name": "stderr",
          "output_type": "stream",
          "text": [
            "/usr/local/lib/python3.11/dist-packages/sklearn/neural_network/_multilayer_perceptron.py:691: ConvergenceWarning: Stochastic Optimizer: Maximum iterations (1000) reached and the optimization hasn't converged yet.\n",
            "  warnings.warn(\n"
          ]
        },
        {
          "name": "stdout",
          "output_type": "stream",
          "text": [
            "Train Accuracy: 0.9667\n",
            "Test Accuracy: 1.0000\n",
            "Confusion Matrix:\n",
            "[[10  0  0]\n",
            " [ 0  9  0]\n",
            " [ 0  0 11]]\n",
            "\n",
            "--- Setup 24: Iris ---\n",
            "Activation: tanh, LR: 0.001, Hidden Neurons: 10\n",
            "Train Accuracy: 0.9667\n",
            "Test Accuracy: 1.0000\n",
            "Confusion Matrix:\n",
            "[[10  0  0]\n",
            " [ 0  9  0]\n",
            " [ 0  0 11]]\n"
          ]
        },
        {
          "name": "stderr",
          "output_type": "stream",
          "text": [
            "/usr/local/lib/python3.11/dist-packages/sklearn/neural_network/_multilayer_perceptron.py:691: ConvergenceWarning: Stochastic Optimizer: Maximum iterations (1000) reached and the optimization hasn't converged yet.\n",
            "  warnings.warn(\n"
          ]
        },
        {
          "data": {
            "image/png": "[encoded data removed]",
            "text/plain": [
              "<Figure size 640x480 with 1 Axes>"
            ]
          },
          "metadata": {},
          "output_type": "display_data"
        },
        {
          "name": "stdout",
          "output_type": "stream",
          "text": [
            "\n",
            "--- Setup 25: Iris ---\n",
            "Activation: tanh, LR: 0.01, Hidden Neurons: 2\n",
            "Train Accuracy: 0.9833\n",
            "Test Accuracy: 1.0000\n",
            "Confusion Matrix:\n",
            "[[10  0  0]\n",
            " [ 0  9  0]\n",
            " [ 0  0 11]]\n",
            "\n",
            "--- Setup 26: Iris ---\n",
            "Activation: tanh, LR: 0.01, Hidden Neurons: 3\n",
            "Train Accuracy: 0.9833\n",
            "Test Accuracy: 1.0000\n",
            "Confusion Matrix:\n",
            "[[10  0  0]\n",
            " [ 0  9  0]\n",
            " [ 0  0 11]]\n",
            "\n",
            "--- Setup 27: Iris ---\n",
            "Activation: tanh, LR: 0.01, Hidden Neurons: 5\n",
            "Train Accuracy: 0.9833\n",
            "Test Accuracy: 1.0000\n",
            "Confusion Matrix:\n",
            "[[10  0  0]\n",
            " [ 0  9  0]\n",
            " [ 0  0 11]]\n",
            "\n",
            "--- Setup 28: Iris ---\n",
            "Activation: tanh, LR: 0.01, Hidden Neurons: 10\n",
            "Train Accuracy: 0.9833\n",
            "Test Accuracy: 1.0000\n",
            "Confusion Matrix:\n",
            "[[10  0  0]\n",
            " [ 0  9  0]\n",
            " [ 0  0 11]]\n",
            "\n",
            "--- Setup 29: Iris ---\n",
            "Activation: tanh, LR: 0.1, Hidden Neurons: 2\n",
            "Train Accuracy: 0.9833\n",
            "Test Accuracy: 1.0000\n",
            "Confusion Matrix:\n",
            "[[10  0  0]\n",
            " [ 0  9  0]\n",
            " [ 0  0 11]]\n",
            "\n",
            "--- Setup 30: Iris ---\n",
            "Activation: tanh, LR: 0.1, Hidden Neurons: 3\n",
            "Train Accuracy: 0.9833\n",
            "Test Accuracy: 1.0000\n",
            "Confusion Matrix:\n",
            "[[10  0  0]\n",
            " [ 0  9  0]\n",
            " [ 0  0 11]]\n",
            "\n",
            "--- Setup 31: Iris ---\n",
            "Activation: tanh, LR: 0.1, Hidden Neurons: 5\n",
            "Train Accuracy: 0.9833\n",
            "Test Accuracy: 1.0000\n",
            "Confusion Matrix:\n",
            "[[10  0  0]\n",
            " [ 0  9  0]\n",
            " [ 0  0 11]]\n",
            "\n",
            "--- Setup 32: Iris ---\n",
            "Activation: tanh, LR: 0.1, Hidden Neurons: 10\n",
            "Train Accuracy: 0.9833\n",
            "Test Accuracy: 1.0000\n",
            "Confusion Matrix:\n",
            "[[10  0  0]\n",
            " [ 0  9  0]\n",
            " [ 0  0 11]]\n",
            "\n",
            "--- Setup 33: Iris ---\n",
            "Activation: relu, LR: 0.0001, Hidden Neurons: 2\n"
          ]
        },
        {
          "name": "stderr",
          "output_type": "stream",
          "text": [
            "/usr/local/lib/python3.11/dist-packages/sklearn/neural_network/_multilayer_perceptron.py:691: ConvergenceWarning: Stochastic Optimizer: Maximum iterations (1000) reached and the optimization hasn't converged yet.\n",
            "  warnings.warn(\n"
          ]
        },
        {
          "name": "stdout",
          "output_type": "stream",
          "text": [
            "Train Accuracy: 0.4917\n",
            "Test Accuracy: 0.6000\n",
            "Confusion Matrix:\n",
            "[[ 0 10  0]\n",
            " [ 0  7  2]\n",
            " [ 0  0 11]]\n",
            "\n",
            "--- Setup 34: Iris ---\n",
            "Activation: relu, LR: 0.0001, Hidden Neurons: 3\n"
          ]
        },
        {
          "name": "stderr",
          "output_type": "stream",
          "text": [
            "/usr/local/lib/python3.11/dist-packages/sklearn/neural_network/_multilayer_perceptron.py:691: ConvergenceWarning: Stochastic Optimizer: Maximum iterations (1000) reached and the optimization hasn't converged yet.\n",
            "  warnings.warn(\n"
          ]
        },
        {
          "name": "stdout",
          "output_type": "stream",
          "text": [
            "Train Accuracy: 0.4333\n",
            "Test Accuracy: 0.4333\n",
            "Confusion Matrix:\n",
            "[[ 0 10  0]\n",
            " [ 0  7  2]\n",
            " [ 0  5  6]]\n",
            "\n",
            "--- Setup 35: Iris ---\n",
            "Activation: relu, LR: 0.0001, Hidden Neurons: 5\n"
          ]
        },
        {
          "name": "stderr",
          "output_type": "stream",
          "text": [
            "/usr/local/lib/python3.11/dist-packages/sklearn/neural_network/_multilayer_perceptron.py:691: ConvergenceWarning: Stochastic Optimizer: Maximum iterations (1000) reached and the optimization hasn't converged yet.\n",
            "  warnings.warn(\n"
          ]
        },
        {
          "name": "stdout",
          "output_type": "stream",
          "text": [
            "Train Accuracy: 0.7083\n",
            "Test Accuracy: 0.8333\n",
            "Confusion Matrix:\n",
            "[[10  0  0]\n",
            " [ 2  5  2]\n",
            " [ 0  1 10]]\n",
            "\n",
            "--- Setup 36: Iris ---\n",
            "Activation: relu, LR: 0.0001, Hidden Neurons: 10\n"
          ]
        },
        {
          "name": "stderr",
          "output_type": "stream",
          "text": [
            "/usr/local/lib/python3.11/dist-packages/sklearn/neural_network/_multilayer_perceptron.py:691: ConvergenceWarning: Stochastic Optimizer: Maximum iterations (1000) reached and the optimization hasn't converged yet.\n",
            "  warnings.warn(\n"
          ]
        },
        {
          "name": "stdout",
          "output_type": "stream",
          "text": [
            "Train Accuracy: 0.6833\n",
            "Test Accuracy: 0.7000\n",
            "Confusion Matrix:\n",
            "[[ 6  4  0]\n",
            " [ 2  4  3]\n",
            " [ 0  0 11]]\n",
            "\n",
            "--- Setup 37: Iris ---\n",
            "Activation: relu, LR: 0.001, Hidden Neurons: 2\n"
          ]
        },
        {
          "name": "stderr",
          "output_type": "stream",
          "text": [
            "/usr/local/lib/python3.11/dist-packages/sklearn/neural_network/_multilayer_perceptron.py:691: ConvergenceWarning: Stochastic Optimizer: Maximum iterations (1000) reached and the optimization hasn't converged yet.\n",
            "  warnings.warn(\n"
          ]
        },
        {
          "name": "stdout",
          "output_type": "stream",
          "text": [
            "Train Accuracy: 0.8417\n",
            "Test Accuracy: 0.8667\n",
            "Confusion Matrix:\n",
            "[[10  0  0]\n",
            " [ 0  5  4]\n",
            " [ 0  0 11]]\n",
            "\n",
            "--- Setup 38: Iris ---\n",
            "Activation: relu, LR: 0.001, Hidden Neurons: 3\n"
          ]
        },
        {
          "name": "stderr",
          "output_type": "stream",
          "text": [
            "/usr/local/lib/python3.11/dist-packages/sklearn/neural_network/_multilayer_perceptron.py:691: ConvergenceWarning: Stochastic Optimizer: Maximum iterations (1000) reached and the optimization hasn't converged yet.\n",
            "  warnings.warn(\n"
          ]
        },
        {
          "name": "stdout",
          "output_type": "stream",
          "text": [
            "Train Accuracy: 0.9417\n",
            "Test Accuracy: 0.9667\n",
            "Confusion Matrix:\n",
            "[[10  0  0]\n",
            " [ 0  8  1]\n",
            " [ 0  0 11]]\n",
            "\n",
            "--- Setup 39: Iris ---\n",
            "Activation: relu, LR: 0.001, Hidden Neurons: 5\n"
          ]
        },
        {
          "name": "stderr",
          "output_type": "stream",
          "text": [
            "/usr/local/lib/python3.11/dist-packages/sklearn/neural_network/_multilayer_perceptron.py:691: ConvergenceWarning: Stochastic Optimizer: Maximum iterations (1000) reached and the optimization hasn't converged yet.\n",
            "  warnings.warn(\n"
          ]
        },
        {
          "name": "stdout",
          "output_type": "stream",
          "text": [
            "Train Accuracy: 0.9750\n",
            "Test Accuracy: 1.0000\n",
            "Confusion Matrix:\n",
            "[[10  0  0]\n",
            " [ 0  9  0]\n",
            " [ 0  0 11]]\n",
            "\n",
            "--- Setup 40: Iris ---\n",
            "Activation: relu, LR: 0.001, Hidden Neurons: 10\n",
            "Train Accuracy: 0.9750\n",
            "Test Accuracy: 1.0000\n",
            "Confusion Matrix:\n",
            "[[10  0  0]\n",
            " [ 0  9  0]\n",
            " [ 0  0 11]]\n",
            "\n",
            "--- Setup 41: Iris ---\n",
            "Activation: relu, LR: 0.01, Hidden Neurons: 2\n",
            "Train Accuracy: 0.9667\n",
            "Test Accuracy: 0.9667\n",
            "Confusion Matrix:\n",
            "[[10  0  0]\n",
            " [ 0  8  1]\n",
            " [ 0  0 11]]\n",
            "\n",
            "--- Setup 42: Iris ---\n",
            "Activation: relu, LR: 0.01, Hidden Neurons: 3\n",
            "Train Accuracy: 0.9750\n",
            "Test Accuracy: 0.9667\n",
            "Confusion Matrix:\n",
            "[[10  0  0]\n",
            " [ 0  8  1]\n",
            " [ 0  0 11]]\n",
            "\n",
            "--- Setup 43: Iris ---\n",
            "Activation: relu, LR: 0.01, Hidden Neurons: 5\n",
            "Train Accuracy: 0.9833\n",
            "Test Accuracy: 1.0000\n",
            "Confusion Matrix:\n",
            "[[10  0  0]\n",
            " [ 0  9  0]\n",
            " [ 0  0 11]]\n"
          ]
        },
        {
          "data": {
            "image/png": "[encoded data removed]",
            "text/plain": [
              "<Figure size 640x480 with 1 Axes>"
            ]
          },
          "metadata": {},
          "output_type": "display_data"
        },
        {
          "name": "stdout",
          "output_type": "stream",
          "text": [
            "\n",
            "--- Setup 44: Iris ---\n",
            "Activation: relu, LR: 0.01, Hidden Neurons: 10\n",
            "Train Accuracy: 0.9833\n",
            "Test Accuracy: 1.0000\n",
            "Confusion Matrix:\n",
            "[[10  0  0]\n",
            " [ 0  9  0]\n",
            " [ 0  0 11]]\n",
            "\n",
            "--- Setup 45: Iris ---\n",
            "Activation: relu, LR: 0.1, Hidden Neurons: 2\n",
            "Train Accuracy: 0.9833\n",
            "Test Accuracy: 1.0000\n",
            "Confusion Matrix:\n",
            "[[10  0  0]\n",
            " [ 0  9  0]\n",
            " [ 0  0 11]]\n",
            "\n",
            "--- Setup 46: Iris ---\n",
            "Activation: relu, LR: 0.1, Hidden Neurons: 3\n",
            "Train Accuracy: 0.9833\n",
            "Test Accuracy: 1.0000\n",
            "Confusion Matrix:\n",
            "[[10  0  0]\n",
            " [ 0  9  0]\n",
            " [ 0  0 11]]\n",
            "\n",
            "--- Setup 47: Iris ---\n",
            "Activation: relu, LR: 0.1, Hidden Neurons: 5\n",
            "Train Accuracy: 0.9833\n",
            "Test Accuracy: 1.0000\n",
            "Confusion Matrix:\n",
            "[[10  0  0]\n",
            " [ 0  9  0]\n",
            " [ 0  0 11]]\n",
            "\n",
            "--- Setup 48: Iris ---\n",
            "Activation: relu, LR: 0.1, Hidden Neurons: 10\n",
            "Train Accuracy: 0.9833\n",
            "Test Accuracy: 1.0000\n",
            "Confusion Matrix:\n",
            "[[10  0  0]\n",
            " [ 0  9  0]\n",
            " [ 0  0 11]]\n"
          ]
        }
      ],
      "source": [
        "print(\"\\n### Iris Dataset Experiments ###\")\n",
        "X_train_iris, X_test_iris, y_train_iris, y_test_iris = load_iris_data()\n",
        "scaler = StandardScaler()\n",
        "X_train_iris = scaler.fit_transform(X_train_iris)\n",
        "X_test_iris = scaler.transform(X_test_iris)\n",
        "run_experiments(X_train_iris, X_test_iris, y_train_iris, y_test_iris, task_name=\"Iris\")"
      ]
    }
  ],
  "metadata": {
    "colab": {
      "provenance": [],
      "authorship_tag": "ABX9TyOypkjVpR6+FYovBdW6bauX",
      "include_colab_link": true
    },
    "kernelspec": {
      "display_name": "Python 3",
      "name": "python3"
    },
    "language_info": {
      "name": "python"
    }
  },
  "nbformat": 4,
  "nbformat_minor": 0
}